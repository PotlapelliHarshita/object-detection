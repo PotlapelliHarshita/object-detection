{
  "nbformat": 4,
  "nbformat_minor": 0,
  "metadata": {
    "colab": {
      "provenance": [],
      "authorship_tag": "ABX9TyPwx9/Yg3CKAq21q+9jg+2W",
      "include_colab_link": true
    },
    "kernelspec": {
      "name": "python3",
      "display_name": "Python 3"
    },
    "language_info": {
      "name": "python"
    }
  },
  "cells": [
    {
      "cell_type": "markdown",
      "metadata": {
        "id": "view-in-github",
        "colab_type": "text"
      },
      "source": [
        "<a href=\"https://colab.research.google.com/github/PotlapelliHarshita/object-detection/blob/main/Untitled9.ipynb\" target=\"_parent\"><img src=\"https://colab.research.google.com/assets/colab-badge.svg\" alt=\"Open In Colab\"/></a>"
      ]
    },
    {
      "cell_type": "code",
      "source": [
        "pip install torch torchvision opencv-python pandas"
      ],
      "metadata": {
        "id": "ce6RyLrhGS6_"
      },
      "execution_count": null,
      "outputs": []
    },
    {
      "cell_type": "code",
      "source": [
        "import torch\n",
        "import cv2\n",
        "import numpy as np\n",
        "def object_detection_from_webcam(model_path='yolov5s.pt'):\n",
        "    model = torch.hub.load('ultralytics/yolov5', 'custom', path=model_path, trust_repo=True)\n",
        "    cap = cv2.VideoCapture(0)\n",
        "    if not cap.isOpened():\n",
        "        print(\"Error: Cannot access the webcam. Please check permissions or camera availability.\")\n",
        "        return\n",
        "    print(\"Press 'q' to quit the application.\")\n",
        "    while True:\n",
        "        ret, frame = cap.read()\n",
        "        if not ret:\n",
        "            print(\"Error: Failed to capture a frame.\")\n",
        "            break\n",
        "        rgb_frame = cv2.cvtColor(frame, cv2.COLOR_BGR2RGB)\n",
        "        results = model(rgb_frame)\n",
        "        detections = results.pandas().xyxy[0]\n",
        "        for _, row in detections.iterrows():\n",
        "            x_min, y_min, x_max, y_max = int(row['xmin']), int(row['ymin']), int(row['xmax']), int(row['ymax'])\n",
        "            confidence, label = row['confidence'], row['name']\n",
        "            cv2.rectangle(frame, (x_min, y_min), (x_max, y_max), (0, 255, 0), 2)\n",
        "            cv2.putText(frame, f\"{label} {confidence:.2f}\", (x_min, y_min - 10), cv2.FONT_HERSHEY_SIMPLEX, 0.5, (0, 255, 0), 2)\n",
        "        cv2.imshow(\"Webcam Object Detection\", frame)\n",
        "        if cv2.waitKey(1) & 0xFF == ord('q'):\n",
        "            break\n",
        "    cap.release()\n",
        "    cv2.destroyAllWindows()\n",
        "object_detection_from_webcam()"
      ],
      "metadata": {
        "id": "DbMGqSoH5bZv"
      },
      "execution_count": null,
      "outputs": []
    }
  ]
}